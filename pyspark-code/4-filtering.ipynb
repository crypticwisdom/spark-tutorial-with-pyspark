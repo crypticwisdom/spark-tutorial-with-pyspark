{
 "cells": [
  {
   "cell_type": "markdown",
   "id": "eb5eb0f0-e38e-4edb-bca3-34b97798177e",
   "metadata": {
    "editable": true,
    "slideshow": {
     "slide_type": ""
    },
    "tags": []
   },
   "source": [
    "# Filter Operation"
   ]
  },
  {
   "cell_type": "code",
   "execution_count": null,
   "id": "c284219b-00dc-409f-a3ba-10d1f0feb837",
   "metadata": {},
   "outputs": [
    {
     "ename": "AnalysisException",
     "evalue": "[PATH_NOT_FOUND] Path does not exist: file:/c:/Users/nwachwi/Documents/per/spark-tutorial/spark-with-jupyter/data/testv.csv.",
     "output_type": "error",
     "traceback": [
      "\u001b[31m---------------------------------------------------------------------------\u001b[39m",
      "\u001b[31mAnalysisException\u001b[39m                         Traceback (most recent call last)",
      "\u001b[36mCell\u001b[39m\u001b[36m \u001b[39m\u001b[32mIn[1]\u001b[39m\u001b[32m, line 5\u001b[39m\n\u001b[32m      1\u001b[39m \u001b[38;5;28;01mfrom\u001b[39;00m\u001b[38;5;250m \u001b[39m\u001b[34;01mpyspark\u001b[39;00m\u001b[34;01m.\u001b[39;00m\u001b[34;01msql\u001b[39;00m\u001b[38;5;250m \u001b[39m\u001b[38;5;28;01mimport\u001b[39;00m SparkSession\n\u001b[32m      3\u001b[39m spark = SparkSession.builder.appName(\u001b[33m\"\u001b[39m\u001b[33mcsnnnn\u001b[39m\u001b[33m\"\u001b[39m).getOrCreate()\n\u001b[32m----> \u001b[39m\u001b[32m5\u001b[39m df = \u001b[43mspark\u001b[49m\u001b[43m.\u001b[49m\u001b[43mread\u001b[49m\u001b[43m.\u001b[49m\u001b[43mcsv\u001b[49m\u001b[43m(\u001b[49m\u001b[33;43m\"\u001b[39;49m\u001b[33;43mdata/testv.csv\u001b[39;49m\u001b[33;43m\"\u001b[39;49m\u001b[43m,\u001b[49m\u001b[43m \u001b[49m\u001b[43minferSchema\u001b[49m\u001b[43m=\u001b[49m\u001b[38;5;28;43;01mTrue\u001b[39;49;00m\u001b[43m,\u001b[49m\u001b[43m \u001b[49m\u001b[43mheader\u001b[49m\u001b[43m=\u001b[49m\u001b[38;5;28;43;01mTrue\u001b[39;49;00m\u001b[43m,\u001b[49m\u001b[43m \u001b[49m\u001b[43msep\u001b[49m\u001b[43m=\u001b[49m\u001b[33;43m\"\u001b[39;49m\u001b[38;5;130;43;01m\\t\u001b[39;49;00m\u001b[33;43m\"\u001b[39;49m\u001b[43m)\u001b[49m.select(\u001b[33m\"\u001b[39m\u001b[33mMSISDN\u001b[39m\u001b[33m\"\u001b[39m, \u001b[33m\"\u001b[39m\u001b[33mEMAIL\u001b[39m\u001b[33m\"\u001b[39m, \u001b[33m\"\u001b[39m\u001b[33mNID\u001b[39m\u001b[33m\"\u001b[39m)\n\u001b[32m      6\u001b[39m df.printSchema()\n\u001b[32m      7\u001b[39m df.show(\u001b[32m10\u001b[39m)\n",
      "\u001b[36mFile \u001b[39m\u001b[32mc:\\Users\\nwachwi\\Documents\\per\\spark-tutorial\\venv\\Lib\\site-packages\\pyspark\\sql\\readwriter.py:740\u001b[39m, in \u001b[36mDataFrameReader.csv\u001b[39m\u001b[34m(self, path, schema, sep, encoding, quote, escape, comment, header, inferSchema, ignoreLeadingWhiteSpace, ignoreTrailingWhiteSpace, nullValue, nanValue, positiveInf, negativeInf, dateFormat, timestampFormat, maxColumns, maxCharsPerColumn, maxMalformedLogPerPartition, mode, columnNameOfCorruptRecord, multiLine, charToEscapeQuoteEscaping, samplingRatio, enforceSchema, emptyValue, locale, lineSep, pathGlobFilter, recursiveFileLookup, modifiedBefore, modifiedAfter, unescapedQuoteHandling)\u001b[39m\n\u001b[32m    738\u001b[39m \u001b[38;5;28;01mif\u001b[39;00m \u001b[38;5;28mtype\u001b[39m(path) == \u001b[38;5;28mlist\u001b[39m:\n\u001b[32m    739\u001b[39m     \u001b[38;5;28;01massert\u001b[39;00m \u001b[38;5;28mself\u001b[39m._spark._sc._jvm \u001b[38;5;129;01mis\u001b[39;00m \u001b[38;5;129;01mnot\u001b[39;00m \u001b[38;5;28;01mNone\u001b[39;00m\n\u001b[32m--> \u001b[39m\u001b[32m740\u001b[39m     \u001b[38;5;28;01mreturn\u001b[39;00m \u001b[38;5;28mself\u001b[39m._df(\u001b[38;5;28;43mself\u001b[39;49m\u001b[43m.\u001b[49m\u001b[43m_jreader\u001b[49m\u001b[43m.\u001b[49m\u001b[43mcsv\u001b[49m\u001b[43m(\u001b[49m\u001b[38;5;28;43mself\u001b[39;49m\u001b[43m.\u001b[49m\u001b[43m_spark\u001b[49m\u001b[43m.\u001b[49m\u001b[43m_sc\u001b[49m\u001b[43m.\u001b[49m\u001b[43m_jvm\u001b[49m\u001b[43m.\u001b[49m\u001b[43mPythonUtils\u001b[49m\u001b[43m.\u001b[49m\u001b[43mtoSeq\u001b[49m\u001b[43m(\u001b[49m\u001b[43mpath\u001b[49m\u001b[43m)\u001b[49m\u001b[43m)\u001b[49m)\n\u001b[32m    741\u001b[39m \u001b[38;5;28;01melif\u001b[39;00m \u001b[38;5;28misinstance\u001b[39m(path, RDD):\n\u001b[32m    743\u001b[39m     \u001b[38;5;28;01mdef\u001b[39;00m\u001b[38;5;250m \u001b[39m\u001b[34mfunc\u001b[39m(iterator):\n",
      "\u001b[36mFile \u001b[39m\u001b[32mc:\\Users\\nwachwi\\Documents\\per\\spark-tutorial\\venv\\Lib\\site-packages\\py4j\\java_gateway.py:1322\u001b[39m, in \u001b[36mJavaMember.__call__\u001b[39m\u001b[34m(self, *args)\u001b[39m\n\u001b[32m   1316\u001b[39m command = proto.CALL_COMMAND_NAME +\\\n\u001b[32m   1317\u001b[39m     \u001b[38;5;28mself\u001b[39m.command_header +\\\n\u001b[32m   1318\u001b[39m     args_command +\\\n\u001b[32m   1319\u001b[39m     proto.END_COMMAND_PART\n\u001b[32m   1321\u001b[39m answer = \u001b[38;5;28mself\u001b[39m.gateway_client.send_command(command)\n\u001b[32m-> \u001b[39m\u001b[32m1322\u001b[39m return_value = \u001b[43mget_return_value\u001b[49m\u001b[43m(\u001b[49m\n\u001b[32m   1323\u001b[39m \u001b[43m    \u001b[49m\u001b[43manswer\u001b[49m\u001b[43m,\u001b[49m\u001b[43m \u001b[49m\u001b[38;5;28;43mself\u001b[39;49m\u001b[43m.\u001b[49m\u001b[43mgateway_client\u001b[49m\u001b[43m,\u001b[49m\u001b[43m \u001b[49m\u001b[38;5;28;43mself\u001b[39;49m\u001b[43m.\u001b[49m\u001b[43mtarget_id\u001b[49m\u001b[43m,\u001b[49m\u001b[43m \u001b[49m\u001b[38;5;28;43mself\u001b[39;49m\u001b[43m.\u001b[49m\u001b[43mname\u001b[49m\u001b[43m)\u001b[49m\n\u001b[32m   1325\u001b[39m \u001b[38;5;28;01mfor\u001b[39;00m temp_arg \u001b[38;5;129;01min\u001b[39;00m temp_args:\n\u001b[32m   1326\u001b[39m     \u001b[38;5;28;01mif\u001b[39;00m \u001b[38;5;28mhasattr\u001b[39m(temp_arg, \u001b[33m\"\u001b[39m\u001b[33m_detach\u001b[39m\u001b[33m\"\u001b[39m):\n",
      "\u001b[36mFile \u001b[39m\u001b[32mc:\\Users\\nwachwi\\Documents\\per\\spark-tutorial\\venv\\Lib\\site-packages\\pyspark\\errors\\exceptions\\captured.py:185\u001b[39m, in \u001b[36mcapture_sql_exception.<locals>.deco\u001b[39m\u001b[34m(*a, **kw)\u001b[39m\n\u001b[32m    181\u001b[39m converted = convert_exception(e.java_exception)\n\u001b[32m    182\u001b[39m \u001b[38;5;28;01mif\u001b[39;00m \u001b[38;5;129;01mnot\u001b[39;00m \u001b[38;5;28misinstance\u001b[39m(converted, UnknownException):\n\u001b[32m    183\u001b[39m     \u001b[38;5;66;03m# Hide where the exception came from that shows a non-Pythonic\u001b[39;00m\n\u001b[32m    184\u001b[39m     \u001b[38;5;66;03m# JVM exception message.\u001b[39;00m\n\u001b[32m--> \u001b[39m\u001b[32m185\u001b[39m     \u001b[38;5;28;01mraise\u001b[39;00m converted \u001b[38;5;28;01mfrom\u001b[39;00m\u001b[38;5;250m \u001b[39m\u001b[38;5;28;01mNone\u001b[39;00m\n\u001b[32m    186\u001b[39m \u001b[38;5;28;01melse\u001b[39;00m:\n\u001b[32m    187\u001b[39m     \u001b[38;5;28;01mraise\u001b[39;00m\n",
      "\u001b[31mAnalysisException\u001b[39m: [PATH_NOT_FOUND] Path does not exist: file:/c:/Users/nwachwi/Documents/per/spark-tutorial/spark-with-jupyter/data/testv.csv."
     ]
    }
   ],
   "source": [
    "from pyspark.sql import SparkSession\n",
    "\n",
    "spark = SparkSession.builder.appName(\"csnnnn\").getOrCreate()\n",
    "spark.sparkContext.setJobDescription(\"Learning Spark UI\")\n",
    "\n",
    "df = spark.read.csv(\"data/testv.csv\", inferSchema=True, header=True, sep=\"\\t\").select(\"MSISDN\", \"EMAIL\", \"NID\")\n",
    "\n",
    "df.printSchema()\n",
    "df.show(10)\n",
    "df.count()"
   ]
  },
  {
   "cell_type": "code",
   "execution_count": 60,
   "id": "f19f38fe-5728-41a9-9329-fe7c6a89406f",
   "metadata": {},
   "outputs": [
    {
     "name": "stdout",
     "output_type": "stream",
     "text": [
      "+--------+-----+--------+\n",
      "|  MSISDN|EMAIL|     NID|\n",
      "+--------+-----+--------+\n",
      "|57369115| NULL|S0987933|\n",
      "+--------+-----+--------+\n",
      "\n"
     ]
    }
   ],
   "source": [
    "# Method 1:\n",
    "df.filter(\"MSISDN > 57320678 and NID like 'S%'\").show()"
   ]
  },
  {
   "cell_type": "code",
   "execution_count": 62,
   "id": "56186a44-4b20-497e-9d83-652def79e95b",
   "metadata": {},
   "outputs": [
    {
     "name": "stdout",
     "output_type": "stream",
     "text": [
      "+--------+-----+---------+\n",
      "|  MSISDN|EMAIL|      NID|\n",
      "+--------+-----+---------+\n",
      "|70430321| NULL|NYRL44185|\n",
      "+--------+-----+---------+\n",
      "\n",
      "+--------+--------------------+--------------+\n",
      "|  MSISDN|               EMAIL|           NID|\n",
      "+--------+--------------------+--------------+\n",
      "|54924133|JEANPOMPIER0517@G...|J0711874907942|\n",
      "|54846497|                NULL|B160985220041C|\n",
      "|57369115|                NULL|      S0987933|\n",
      "|57113437|                NULL|D090290300772B|\n",
      "|58468805|                NULL|N110561330075F|\n",
      "|57228141|                NULL|     A03228083|\n",
      "|57119226|                NULL|P0502893808515|\n",
      "|57118074|                NULL|M1503654401680|\n",
      "|54881304|                NULL|J080295290173A|\n",
      "|57320678|                NULL|L100783300094F|\n",
      "|70419962|                NULL|     PAG898953|\n",
      "|54882497|                NULL|J0204981200574|\n",
      "|57432871|                NULL|P0407853002537|\n",
      "|54599755|                NULL|G0602930101634|\n",
      "|54521567|                NULL|L141089380213G|\n",
      "|54537767|                NULL|S0208991502950|\n",
      "|54591599|                NULL|F3008534119942|\n",
      "|70430321|                NULL|     NYRL44185|\n",
      "+--------+--------------------+--------------+\n",
      "\n"
     ]
    }
   ],
   "source": [
    "# Method 2: Using multiple conditions (Use & (and), | (or), ~ (not), and wrap each condition in parentheses)\n",
    "\n",
    "df.filter(\n",
    "    (df['MSISDN'] >= 70430321) &\n",
    "    (df['NID'] == 'NYRL44185')\n",
    ").show()\n",
    "\n",
    "\n",
    "# OR\n",
    "\n",
    "\n",
    "from pyspark.sql.functions import col\n",
    "\n",
    "df.filter(\n",
    "    col('MSISDN').isNotNull() &\n",
    "    col('NID').isNotNull()\n",
    ").show()"
   ]
  },
  {
   "cell_type": "code",
   "execution_count": 70,
   "id": "79ccd33f-450c-4f9f-b394-5721cadd014e",
   "metadata": {},
   "outputs": [
    {
     "name": "stdout",
     "output_type": "stream",
     "text": [
      "+--------+-----+--------------+\n",
      "|  MSISDN|EMAIL|           NID|\n",
      "+--------+-----+--------------+\n",
      "|57369115| NULL|      S0987933|\n",
      "|57228141| NULL|     A03228083|\n",
      "|57119226| NULL|P0502893808515|\n",
      "|57320678| NULL|L100783300094F|\n",
      "|57432871| NULL|P0407853002537|\n",
      "+--------+-----+--------------+\n",
      "\n",
      "+--------+-----+--------------+\n",
      "|  MSISDN|EMAIL|           NID|\n",
      "+--------+-----+--------------+\n",
      "|57369115| NULL|      S0987933|\n",
      "|57228141| NULL|     A03228083|\n",
      "|57119226| NULL|P0502893808515|\n",
      "|57320678| NULL|L100783300094F|\n",
      "|57432871| NULL|P0407853002537|\n",
      "+--------+-----+--------------+\n",
      "\n"
     ]
    }
   ],
   "source": [
    "# There are methods in col(). when you can use:\n",
    "df.filter(col(\"MSISDN\").between(57119226, 57432871)).show()\n",
    "\n",
    "# OR \n",
    "\n",
    "df.filter(\"MSISDN between 57119226 and 57432871\").show()"
   ]
  },
  {
   "cell_type": "code",
   "execution_count": 82,
   "id": "7cde7c10-6d1b-4010-8d3c-ee7e261a8482",
   "metadata": {},
   "outputs": [
    {
     "name": "stdout",
     "output_type": "stream",
     "text": [
      "+--------+-----+--------------+\n",
      "|  MSISDN|EMAIL|           NID|\n",
      "+--------+-----+--------------+\n",
      "|57228141| NULL|     A03228083|\n",
      "|57320678| NULL|L100783300094F|\n",
      "+--------+-----+--------------+\n",
      "\n",
      "+--------+-----+--------------+\n",
      "|  MSISDN|EMAIL|           NID|\n",
      "+--------+-----+--------------+\n",
      "|57228141| NULL|     A03228083|\n",
      "|57320678| NULL|L100783300094F|\n",
      "+--------+-----+--------------+\n",
      "\n",
      "+--------+--------------------+--------------+\n",
      "|  MSISDN|               EMAIL|           NID|\n",
      "+--------+--------------------+--------------+\n",
      "|54924133|JEANPOMPIER0517@G...|J0711874907942|\n",
      "|54846497|                NULL|B160985220041C|\n",
      "|57369115|                NULL|      S0987933|\n",
      "|57113437|                NULL|D090290300772B|\n",
      "|58468805|                NULL|N110561330075F|\n",
      "|57119226|                NULL|P0502893808515|\n",
      "|57118074|                NULL|M1503654401680|\n",
      "|54881304|                NULL|J080295290173A|\n",
      "|70419962|                NULL|     PAG898953|\n",
      "|54882497|                NULL|J0204981200574|\n",
      "|57432871|                NULL|P0407853002537|\n",
      "|54599755|                NULL|G0602930101634|\n",
      "|54521567|                NULL|L141089380213G|\n",
      "|54537767|                NULL|S0208991502950|\n",
      "|54591599|                NULL|F3008534119942|\n",
      "|70430321|                NULL|     NYRL44185|\n",
      "+--------+--------------------+--------------+\n",
      "\n",
      "+--------+--------------------+--------------+\n",
      "|  MSISDN|               EMAIL|           NID|\n",
      "+--------+--------------------+--------------+\n",
      "|54924133|JEANPOMPIER0517@G...|J0711874907942|\n",
      "|54846497|                NULL|B160985220041C|\n",
      "|57369115|                NULL|      S0987933|\n",
      "|57113437|                NULL|D090290300772B|\n",
      "|58468805|                NULL|N110561330075F|\n",
      "|57119226|                NULL|P0502893808515|\n",
      "|57118074|                NULL|M1503654401680|\n",
      "|54881304|                NULL|J080295290173A|\n",
      "|70419962|                NULL|     PAG898953|\n",
      "|54882497|                NULL|J0204981200574|\n",
      "|57432871|                NULL|P0407853002537|\n",
      "|54599755|                NULL|G0602930101634|\n",
      "|54521567|                NULL|L141089380213G|\n",
      "|54537767|                NULL|S0208991502950|\n",
      "|54591599|                NULL|F3008534119942|\n",
      "|70430321|                NULL|     NYRL44185|\n",
      "+--------+--------------------+--------------+\n",
      "\n"
     ]
    }
   ],
   "source": [
    "my_list = [57228141, 57228141, 57320678]\n",
    "df.filter(col(\"MSISDN\").isin(my_list)).show() \n",
    "\n",
    "# OR\n",
    "\n",
    "df.filter(\"MSISDN in (57228141, 57228141, 57320678)\").show() # SQL-LIKE\n",
    "\n",
    "\n",
    "df.filter(~(col(\"MSISDN\").isin(my_list))).show()\n",
    "df.filter(\"MSISDN not in (57228141, 57228141, 57320678)\").show() # SQL-LIKE\n",
    "\n"
   ]
  }
 ],
 "metadata": {
  "kernelspec": {
   "display_name": "Python 3 (ipykernel)",
   "language": "python",
   "name": "python3"
  },
  "language_info": {
   "codemirror_mode": {
    "name": "ipython",
    "version": 3
   },
   "file_extension": ".py",
   "mimetype": "text/x-python",
   "name": "python",
   "nbconvert_exporter": "python",
   "pygments_lexer": "ipython3",
   "version": "3.11.9"
  }
 },
 "nbformat": 4,
 "nbformat_minor": 5
}
