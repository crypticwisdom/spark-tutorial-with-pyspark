{
 "cells": [
  {
   "cell_type": "markdown",
   "id": "61c2350b",
   "metadata": {},
   "source": [
    "# PySpark\n",
    "\n",
    "installation: `!pip install pyspark==3.5.0`\n",
    "\n",
    "\n",
    "- Spark or PySpark applications starts with an EntryPoint which is the SparkSession.\n",
    "- The SparkSession is the entry point to programming Spark with the Dataset and DataFrame API.\n",
    "- It gives access to SparkContext, SQLContext, and HiveContext.\n",
    "- The SparkSession can be created using the `SparkSession.builder` method."
   ]
  },
  {
   "cell_type": "code",
   "execution_count": 1,
   "id": "2542a3cb",
   "metadata": {},
   "outputs": [
    {
     "data": {
      "text/html": [
       "\n",
       "            <div>\n",
       "                <p><b>SparkSession - in-memory</b></p>\n",
       "                \n",
       "        <div>\n",
       "            <p><b>SparkContext</b></p>\n",
       "\n",
       "            <p><a href=\"http://host.docker.internal:4040\">Spark UI</a></p>\n",
       "\n",
       "            <dl>\n",
       "              <dt>Version</dt>\n",
       "                <dd><code>v3.5.0</code></dd>\n",
       "              <dt>Master</dt>\n",
       "                <dd><code>local[*]</code></dd>\n",
       "              <dt>AppName</dt>\n",
       "                <dd><code>Spark-Read</code></dd>\n",
       "            </dl>\n",
       "        </div>\n",
       "        \n",
       "            </div>\n",
       "        "
      ],
      "text/plain": [
       "<pyspark.sql.session.SparkSession at 0x2605daabc90>"
      ]
     },
     "execution_count": 1,
     "metadata": {},
     "output_type": "execute_result"
    }
   ],
   "source": [
    "from pyspark.sql import SparkSession\n",
    "\n",
    "# spark = SparkSession.builder.master(\"local[*]\").appName(\"Spark-Read\").config(\"spark.some.config.option\", \"config-value\").getOrCreate()  # Create the SparkSession\n",
    "spark = SparkSession.builder.appName('Spark-Read').getOrCreate()\n",
    "spark.sparkContext.setJobDescription(\"Learning Spark UI\")\n",
    "\n",
    "spark"
   ]
  },
  {
   "cell_type": "code",
   "execution_count": 2,
   "id": "e918deef",
   "metadata": {},
   "outputs": [
    {
     "name": "stdout",
     "output_type": "stream",
     "text": [
      "+--------+--------------+-------+--------------------+--------------------+----------+-------------+--------+-------------+----------------+-------+---------------+--------------------+-------------------+-----------+--------+---------+--------+-----------------+------------------+-----------------+------+------+----------+----------+--------+--------+--------------+--------------+---------------+---------------+----------------+----------------+----------------+---------------+---------------+---------------+----------------------+----------+-------------+------------+--------------------+--------------------+-------------------+-------------------+----------------------------+---------------+---------------+--------------------+--------------------+-------------------+-------------------+------------------------+------------------------+--------+------------+----------------+----------------+----------------+-----------+-----------+-----------+------------+------------+------------+----------+----------+----------+----------+----------+----------+--------+--------+--------+\n",
      "|  MSISDN|           NID|NID_LEN|      CUSTOMERIDNAME|               EMAIL|GROSS_DATE|CUSTOMER_TYPE|USERTYPE|SUBSCRIBERCAT|SUBSCRIBERSUBCAT|SEGMENT|POSTPAID_TARIFF|POSTPAID_MAINPRODUCT|POSTPAID_SUBPRODUCT|NATIONALITY|AON_DAYS|AON_MONTH|AON_YEAR|ALTERNATE_MOB_NUM|FAVOURITE_LOCATION|DAYS_INACT  BAL_1| BAL_2| BAL_3|DATA_USERS|PACK_USERS|PACK_90D|PACK_30D|DAILY_PACK_90D|DAILY_PACK_30D|WEEKLY_PACK_90D|WEEKLY_PACK_30D|MONTHLY_PACK_90D|MONTHLY_PACK_30D|RECHARGE_VAL_30D|RECHARGE_VAL_D1|RECHARGE_VAL_D2|RECHARGE_VAL_D3|AIRTIME_USG YOUTH_PACK|TOTAL_ARPU|ONNET_REVENUE|XNET_REVENUE|ONNET_TOTAL_MINS_90D|ONNET_TOTAL_MINS_30D|XNET_TOTAL_MINS_90D|XNET_TOTAL_MINS_30D|VOICE_INCOMING_ARPU SMS_ARPU|DATA_USG_GB_90D|DATA_USG_GB_30D|DATA_PAYG_USG_GB_90D|DATA_PAYG_USG_GB_30D|TOTAL_DATA_ARPU_90D|TOTAL_DATA_ARPU_30D|TOTAL_DATA_PAYG_ARPU_90D|TOTAL_DATA_PAYG_ARPU_30D|ILD_ARPU|ILD_SMS_ARPU|DEVICE_SUBTYPE_1|DEVICE_SUBTYPE_2|DEVICE_SUBTYPE_3|OS_SYSTEM_1|OS_SYSTEM_2|OS_SYSTEM_3|TECHNOLOGY_1|TECHNOLOGY_2|TECHNOLOGY_3|SIM_TYPE_1|SIM_TYPE_2|SIM_TYPE_3|DUAL_SIM_1|DUAL_SIM_2|DUAL_SIM_3|  ESIM_1|  ESIM_2|  ESIM_3|\n",
      "+--------+--------------+-------+--------------------+--------------------+----------+-------------+--------+-------------+----------------+-------+---------------+--------------------+-------------------+-----------+--------+---------+--------+-----------------+------------------+-----------------+------+------+----------+----------+--------+--------+--------------+--------------+---------------+---------------+----------------+----------------+----------------+---------------+---------------+---------------+----------------------+----------+-------------+------------+--------------------+--------------------+-------------------+-------------------+----------------------------+---------------+---------------+--------------------+--------------------+-------------------+-------------------+------------------------+------------------------+--------+------------+----------------+----------------+----------------+-----------+-----------+-----------+------------+------------+------------+----------+----------+----------+----------+----------+----------+--------+--------+--------+\n",
      "|54924133|J0711874907942|     14|        WENSLEY JEAN|JEANPOMPIER0517@G...| 21-Jul-15|       MOBILE| PREPAID|   INDIVIDUAL|            GOLD|  IVORY|           NULL|                NULL|               NULL|       HOME|    3222|   105.84|    8.83|             NULL|        BELLE ROSE|                0|1.8619|1.8621|    1.8621|         Y|       Y|       3|             2|             3|              2|           NULL|            NULL|            NULL|            NULL|            0.0|            0.0|            0.0|                   0.0|     78.67|            N|       80.99|               17.56|                4.69|              14.63|                2.8|                        1.32|           NULL|           2.32|                 0.0|                0.99|               0.99|               0.01|                     0.0|                   18.26|    NULL|        1.64|             0.3|            NULL|            NULL| Smartphone| Smartphone| Smartphone|     Android|     Android|     Android|        5G|        5G|        5G|    USIM  |    USIM  |    USIM  |DUAL SIM|DUAL SIM|DUAL SIM|\n",
      "|54846497|B160985220041C|     14|MARIE ANGELO BOOD...|                NULL| 10-Apr-24|       MOBILE| PREPAID|   INDIVIDUAL|            GOLD| SILVER|           NULL|                NULL|               NULL|       HOME|     417|    13.68|    1.14|             NULL|         ST HUBERT|                0|8.7E-4|   0.0|       0.0|         Y|       Y|      19|            11|            19|             11|           NULL|            NULL|               1|            NULL|         214.78|          18.26|            0.0|                   0.0|    727.91|            N|      752.58|               22.78|               31.05|               84.9|              32.53|                       33.77|          11.07|          23.91|                 0.0|               40.81|               8.95|               0.02|                     0.0|                  435.94|    73.1|        3.78|            0.06|            NULL|            NULL| Smartphone| Smartphone| Smartphone|     Android|     Android|     Android|        4G|        4G|        4G|    USIM  |    USIM  |    USIM  |DUAL SIM|DUAL SIM|DUAL SIM|\n",
      "|57369115|      S0987933|      8|      DRISHTI BASERA|                NULL|  2-Mar-20|       MOBILE| PREPAID|   INDIVIDUAL|            GOLD| SILVER|           NULL|                NULL|               NULL|       HOME|    1917|    62.94|    5.25|             NULL|          CUREPIPE|               16|3.0E-5|3.0E-5|    3.0E-5|         Y|       Y|       2|             0|          NULL|           NULL|           NULL|            NULL|               2|            NULL|            0.0|            0.0|            0.0|                   0.0|    645.22|            N|       646.5|                 0.0|                 0.0|               4.93|               NULL|                        2.02|           0.77|           1.28|                 0.0|               53.73|              19.18|                0.0|                    NULL|                  645.22|    NULL|        0.01|            NULL|            NULL|            NULL| Smartphone| Smartphone| Smartphone|     Android|     Android|     Android|        4G|        4G|        4G|    USIM  |    USIM  |    USIM  |DUAL SIM|DUAL SIM|DUAL SIM|\n",
      "+--------+--------------+-------+--------------------+--------------------+----------+-------------+--------+-------------+----------------+-------+---------------+--------------------+-------------------+-----------+--------+---------+--------+-----------------+------------------+-----------------+------+------+----------+----------+--------+--------+--------------+--------------+---------------+---------------+----------------+----------------+----------------+---------------+---------------+---------------+----------------------+----------+-------------+------------+--------------------+--------------------+-------------------+-------------------+----------------------------+---------------+---------------+--------------------+--------------------+-------------------+-------------------+------------------------+------------------------+--------+------------+----------------+----------------+----------------+-----------+-----------+-----------+------------+------------+------------+----------+----------+----------+----------+----------+----------+--------+--------+--------+\n",
      "only showing top 3 rows\n",
      "\n"
     ]
    }
   ],
   "source": [
    "# Method 1: Using the `read.csv` method to read csv file\n",
    "# the `header` option is set to True to indicate that the first row in the csv file contains the column names.\n",
    "# the `inferSchema` option is set to True to automatically infer the data types of the columns.\n",
    "\n",
    "# Note:\n",
    "# - You also have the option of strictly specifying a schema when you read in data (which we recommend in production\n",
    "# scenarios)\n",
    "\n",
    "spark_df1 = spark.read.csv('./data/testdata.csv', header=True, inferSchema=True)\n",
    "\n",
    "# used to show n rows of the dataframe in relational database table format\n",
    "spark_df1.show(3)\n",
    "# df.show(10, truncate=False)\n"
   ]
  },
  {
   "cell_type": "code",
   "execution_count": 12,
   "id": "9008e168",
   "metadata": {},
   "outputs": [
    {
     "name": "stdout",
     "output_type": "stream",
     "text": [
      "+--------+\n",
      "|  MSISDN|\n",
      "+--------+\n",
      "|54924133|\n",
      "|54846497|\n",
      "|57369115|\n",
      "|57113437|\n",
      "|58468805|\n",
      "+--------+\n",
      "only showing top 5 rows\n",
      "\n"
     ]
    }
   ],
   "source": [
    "# Read file Method 2: Using the 'option' method to read csv file\n",
    "\n",
    "# the 'header' is used to indicate that the first row in the csv file contains the column names.\n",
    "spark_df2 = spark.read.option(\"header\", \"true\").csv('./data/testdata.csv')\n",
    "\n",
    "# .head method returns the first n rows of the DataFrame.\n",
    "spark_df2.head(5)\n",
    "\n",
    "# .printSchema method prints the schema of the Dataframe.\n",
    "# spark_df2.printSchema()\n",
    "\n",
    "spark_df2.schema\n",
    "spark_df2.dtypes # Get the data types of each column in the DataFrame as a list of tuples (column_name, data_type)\n",
    "spark_df2.columns\n",
    "\n",
    "# .head method returns the last n rows of the DataFrame.\n",
    "spark_df2.tail(10)\n",
    "\n",
    "spark_df1.MSISDN\n",
    "spark_df1.select('MSISDN').show(5)"
   ]
  },
  {
   "cell_type": "code",
   "execution_count": 13,
   "id": "fbcc57b2",
   "metadata": {},
   "outputs": [
    {
     "name": "stdout",
     "output_type": "stream",
     "text": [
      "Requirement already satisfied: pyspark in c:\\users\\nwachwi\\documents\\per\\spark-tutorial\\venv\\lib\\site-packages (3.5.0)\n",
      "Requirement already satisfied: py4j==0.10.9.7 in c:\\users\\nwachwi\\documents\\per\\spark-tutorial\\venv\\lib\\site-packages (from pyspark) (0.10.9.7)\n"
     ]
    },
    {
     "name": "stderr",
     "output_type": "stream",
     "text": [
      "\n",
      "[notice] A new release of pip is available: 24.0 -> 25.2\n",
      "[notice] To update, run: python.exe -m pip install --upgrade pip\n"
     ]
    }
   ],
   "source": [
    "!pip install pyspark"
   ]
  }
 ],
 "metadata": {
  "kernelspec": {
   "display_name": "Python 3 (ipykernel)",
   "language": "python",
   "name": "python3"
  },
  "language_info": {
   "codemirror_mode": {
    "name": "ipython",
    "version": 3
   },
   "file_extension": ".py",
   "mimetype": "text/x-python",
   "name": "python",
   "nbconvert_exporter": "python",
   "pygments_lexer": "ipython3",
   "version": "3.11.9"
  }
 },
 "nbformat": 4,
 "nbformat_minor": 5
}
