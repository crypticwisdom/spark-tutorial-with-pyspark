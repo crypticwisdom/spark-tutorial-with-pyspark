{
 "cells": [
  {
   "cell_type": "code",
   "execution_count": 22,
   "id": "11148f7b-dd36-4073-a8d0-247a85c01cf1",
   "metadata": {},
   "outputs": [],
   "source": [
    "from pyspark.sql import SparkSession\n",
    "from pyspark.sql.functions import lit, concat, when"
   ]
  },
  {
   "cell_type": "code",
   "execution_count": null,
   "id": "dacf487c-33a4-4b4d-94cc-cf556b2651d1",
   "metadata": {
    "editable": true,
    "slideshow": {
     "slide_type": ""
    },
    "tags": []
   },
   "outputs": [],
   "source": [
    "spark = SparkSession.builder.master(\"local[*]\").appName(\"TEST EMTEL DATA DUMP\").getOrCreate()\n",
    "spark \n",
    "spark.sparkContext.setJobDescription(\"Learning Spark UI\")"
   ]
  },
  {
   "cell_type": "code",
   "execution_count": 25,
   "id": "ffe53386-db6f-49b3-810f-837ac1f998f5",
   "metadata": {},
   "outputs": [],
   "source": [
    "df = spark.read.option('header', 'true').option(\"inferSchema\", \"true\").option(\"sep\", \",\").csv('./data/testdata.csv').count()\n",
    "    # .select(\"MSISDN\", \"NID_LEN\", \"USERTYPE\", \"EMAIL\", \"GROSS_DATE\", \"SUBSCRIBERCAT\")\n",
    "# df.printSchema()\n",
    "# d = df.groupBy(\"GROSS_DATE\").agg({\"NID_LEN\": \"max\", \"USERTYPE\": \"count\"})\n",
    "# d.show()\n",
    "\n",
    "# gg = d.select(\"MSISDN\", \"NID_LEN\", \"USERTYPE\", \"EMAIL\", \"GROSS_DATE\", \"SUBSCRIBERCAT\")\n",
    "# gg.show(10)"
   ]
  },
  {
   "cell_type": "code",
   "execution_count": null,
   "id": "c6e56204-590d-42ee-87c2-6c4a721da81e",
   "metadata": {},
   "outputs": [],
   "source": []
  }
 ],
 "metadata": {
  "kernelspec": {
   "display_name": "Python 3 (ipykernel)",
   "language": "python",
   "name": "python3"
  },
  "language_info": {
   "codemirror_mode": {
    "name": "ipython",
    "version": 3
   },
   "file_extension": ".py",
   "mimetype": "text/x-python",
   "name": "python",
   "nbconvert_exporter": "python",
   "pygments_lexer": "ipython3",
   "version": "3.11.9"
  }
 },
 "nbformat": 4,
 "nbformat_minor": 5
}
