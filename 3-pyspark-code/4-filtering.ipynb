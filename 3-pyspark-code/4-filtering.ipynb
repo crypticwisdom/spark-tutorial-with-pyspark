{
 "cells": [
  {
   "cell_type": "markdown",
   "id": "eb5eb0f0-e38e-4edb-bca3-34b97798177e",
   "metadata": {
    "editable": true,
    "slideshow": {
     "slide_type": ""
    },
    "tags": []
   },
   "source": [
    "# Filter Operation"
   ]
  },
  {
   "cell_type": "code",
   "execution_count": 2,
   "id": "c284219b-00dc-409f-a3ba-10d1f0feb837",
   "metadata": {},
   "outputs": [
    {
     "name": "stdout",
     "output_type": "stream",
     "text": [
      "root\n",
      " |-- MSISDN: integer (nullable = true)\n",
      " |-- EMAIL: string (nullable = true)\n",
      "\n",
      "+--------+--------------------+\n",
      "|  MSISDN|               EMAIL|\n",
      "+--------+--------------------+\n",
      "|54924133|JEANPOMPIER0517@G...|\n",
      "|54846497|                NULL|\n",
      "|57369115|                NULL|\n",
      "|57113437|                NULL|\n",
      "|58468805|                NULL|\n",
      "|57228141|                NULL|\n",
      "|57119226|                NULL|\n",
      "|57118074|                NULL|\n",
      "|54881304|                NULL|\n",
      "|57320678|                NULL|\n",
      "+--------+--------------------+\n",
      "only showing top 10 rows\n",
      "\n"
     ]
    },
    {
     "data": {
      "text/plain": [
       "99999"
      ]
     },
     "execution_count": 2,
     "metadata": {},
     "output_type": "execute_result"
    }
   ],
   "source": [
    "from pyspark.sql import SparkSession\n",
    "\n",
    "spark = SparkSession.builder.appName(\"csnnnn\").getOrCreate()\n",
    "\n",
    "df = spark.read.csv(\"./data/testdata.csv\", inferSchema=True, header=True, sep=\",\").select(\"MSISDN\", \"EMAIL\")\n",
    "\n",
    "df.printSchema()\n",
    "df.show(10)\n",
    "df.count()"
   ]
  },
  {
   "cell_type": "code",
   "execution_count": 3,
   "id": "f19f38fe-5728-41a9-9329-fe7c6a89406f",
   "metadata": {},
   "outputs": [
    {
     "name": "stdout",
     "output_type": "stream",
     "text": [
      "+--------+--------------------+\n",
      "|  MSISDN|               EMAIL|\n",
      "+--------+--------------------+\n",
      "|59376589|SYLVESTREJENNIFER...|\n",
      "|59793875|S_hosenally@hotma...|\n",
      "|58554292|SHIVANEE07@YAHOO.COM|\n",
      "|59373621|SABRINACAS@GMAIL.COM|\n",
      "|58564580|SEEDEEALSOUDESH@G...|\n",
      "|59776903|SKANDA-GUHA@YAHOO...|\n",
      "|58578443|SIMLABOODHOO@HOTM...|\n",
      "|58558411|SHYAM.ABACOUSNAC@...|\n",
      "|58533718|  SARAH.293@LIVE.COM|\n",
      "|59359909|SURVANASUMPUTH@YA...|\n",
      "|59832131|SHOBNADILMAHOMED@...|\n",
      "|57487043|SAIFALIKHOD777@GM...|\n",
      "|57443148|S.HUSSENBOCUS@NKM...|\n",
      "|57339476|STEEVEBEGUE@GMAIL...|\n",
      "|58430756| STEEVENPK@GMAIL.COM|\n",
      "|57381291|SULLEIMAN.VAWDA@G...|\n",
      "|59836789|SHAHANAJHUMMUN@GM...|\n",
      "|57473693|    SSCOTT@INICIA.MU|\n",
      "|57470860|STEPHANEJIO@GMAIL...|\n",
      "|58528826| STELLIO.J@GMAIL.COM|\n",
      "+--------+--------------------+\n",
      "only showing top 20 rows\n",
      "\n"
     ]
    }
   ],
   "source": [
    "# Method 1:\n",
    "df.filter(\"MSISDN > 57320678 and EMAIL like 'S%'\").show()"
   ]
  },
  {
   "cell_type": "code",
   "execution_count": 4,
   "id": "56186a44-4b20-497e-9d83-652def79e95b",
   "metadata": {},
   "outputs": [
    {
     "name": "stdout",
     "output_type": "stream",
     "text": [
      "+------+-----+\n",
      "|MSISDN|EMAIL|\n",
      "+------+-----+\n",
      "+------+-----+\n",
      "\n",
      "+--------+--------------------+\n",
      "|  MSISDN|               EMAIL|\n",
      "+--------+--------------------+\n",
      "|54924133|JEANPOMPIER0517@G...|\n",
      "|54846497|                NULL|\n",
      "|57369115|                NULL|\n",
      "|57113437|                NULL|\n",
      "|58468805|                NULL|\n",
      "|57228141|                NULL|\n",
      "|57119226|                NULL|\n",
      "|57118074|                NULL|\n",
      "|54881304|                NULL|\n",
      "|57320678|                NULL|\n",
      "|70419962|                NULL|\n",
      "|54882497|                NULL|\n",
      "|57432871|                NULL|\n",
      "|54599755|                NULL|\n",
      "|54521567|                NULL|\n",
      "|54537767|                NULL|\n",
      "|54591599|                NULL|\n",
      "|70430321|                NULL|\n",
      "|54236101|                NULL|\n",
      "|59855287|                NULL|\n",
      "+--------+--------------------+\n",
      "only showing top 20 rows\n",
      "\n"
     ]
    }
   ],
   "source": [
    "# Method 2: Using multiple conditions (Use & (and), | (or), ~ (not), and wrap each condition in parentheses)\n",
    "\n",
    "df.filter(\n",
    "    (df['MSISDN'] >= 70430321) &\n",
    "    (df['EMAIL'] == 'NYRL44185')\n",
    ").show()\n",
    "\n",
    "\n",
    "# OR\n",
    "\n",
    "\n",
    "from pyspark.sql.functions import col\n",
    "\n",
    "df.filter(\n",
    "    col('MSISDN').isNotNull() &\n",
    "    col('NID').isNotNull()\n",
    ").show()"
   ]
  },
  {
   "cell_type": "code",
   "execution_count": 70,
   "id": "79ccd33f-450c-4f9f-b394-5721cadd014e",
   "metadata": {},
   "outputs": [
    {
     "name": "stdout",
     "output_type": "stream",
     "text": [
      "+--------+-----+--------------+\n",
      "|  MSISDN|EMAIL|           NID|\n",
      "+--------+-----+--------------+\n",
      "|57369115| NULL|      S0987933|\n",
      "|57228141| NULL|     A03228083|\n",
      "|57119226| NULL|P0502893808515|\n",
      "|57320678| NULL|L100783300094F|\n",
      "|57432871| NULL|P0407853002537|\n",
      "+--------+-----+--------------+\n",
      "\n",
      "+--------+-----+--------------+\n",
      "|  MSISDN|EMAIL|           NID|\n",
      "+--------+-----+--------------+\n",
      "|57369115| NULL|      S0987933|\n",
      "|57228141| NULL|     A03228083|\n",
      "|57119226| NULL|P0502893808515|\n",
      "|57320678| NULL|L100783300094F|\n",
      "|57432871| NULL|P0407853002537|\n",
      "+--------+-----+--------------+\n",
      "\n"
     ]
    }
   ],
   "source": [
    "# There are methods in col(). when you can use:\n",
    "df.filter(col(\"MSISDN\").between(57119226, 57432871)).show()\n",
    "\n",
    "# OR \n",
    "\n",
    "df.filter(\"MSISDN between 57119226 and 57432871\").show()"
   ]
  },
  {
   "cell_type": "code",
   "execution_count": 82,
   "id": "7cde7c10-6d1b-4010-8d3c-ee7e261a8482",
   "metadata": {},
   "outputs": [
    {
     "name": "stdout",
     "output_type": "stream",
     "text": [
      "+--------+-----+--------------+\n",
      "|  MSISDN|EMAIL|           NID|\n",
      "+--------+-----+--------------+\n",
      "|57228141| NULL|     A03228083|\n",
      "|57320678| NULL|L100783300094F|\n",
      "+--------+-----+--------------+\n",
      "\n",
      "+--------+-----+--------------+\n",
      "|  MSISDN|EMAIL|           NID|\n",
      "+--------+-----+--------------+\n",
      "|57228141| NULL|     A03228083|\n",
      "|57320678| NULL|L100783300094F|\n",
      "+--------+-----+--------------+\n",
      "\n",
      "+--------+--------------------+--------------+\n",
      "|  MSISDN|               EMAIL|           NID|\n",
      "+--------+--------------------+--------------+\n",
      "|54924133|JEANPOMPIER0517@G...|J0711874907942|\n",
      "|54846497|                NULL|B160985220041C|\n",
      "|57369115|                NULL|      S0987933|\n",
      "|57113437|                NULL|D090290300772B|\n",
      "|58468805|                NULL|N110561330075F|\n",
      "|57119226|                NULL|P0502893808515|\n",
      "|57118074|                NULL|M1503654401680|\n",
      "|54881304|                NULL|J080295290173A|\n",
      "|70419962|                NULL|     PAG898953|\n",
      "|54882497|                NULL|J0204981200574|\n",
      "|57432871|                NULL|P0407853002537|\n",
      "|54599755|                NULL|G0602930101634|\n",
      "|54521567|                NULL|L141089380213G|\n",
      "|54537767|                NULL|S0208991502950|\n",
      "|54591599|                NULL|F3008534119942|\n",
      "|70430321|                NULL|     NYRL44185|\n",
      "+--------+--------------------+--------------+\n",
      "\n",
      "+--------+--------------------+--------------+\n",
      "|  MSISDN|               EMAIL|           NID|\n",
      "+--------+--------------------+--------------+\n",
      "|54924133|JEANPOMPIER0517@G...|J0711874907942|\n",
      "|54846497|                NULL|B160985220041C|\n",
      "|57369115|                NULL|      S0987933|\n",
      "|57113437|                NULL|D090290300772B|\n",
      "|58468805|                NULL|N110561330075F|\n",
      "|57119226|                NULL|P0502893808515|\n",
      "|57118074|                NULL|M1503654401680|\n",
      "|54881304|                NULL|J080295290173A|\n",
      "|70419962|                NULL|     PAG898953|\n",
      "|54882497|                NULL|J0204981200574|\n",
      "|57432871|                NULL|P0407853002537|\n",
      "|54599755|                NULL|G0602930101634|\n",
      "|54521567|                NULL|L141089380213G|\n",
      "|54537767|                NULL|S0208991502950|\n",
      "|54591599|                NULL|F3008534119942|\n",
      "|70430321|                NULL|     NYRL44185|\n",
      "+--------+--------------------+--------------+\n",
      "\n"
     ]
    }
   ],
   "source": [
    "my_list = [57228141, 57228141, 57320678]\n",
    "df.filter(col(\"MSISDN\").isin(my_list)).show() \n",
    "\n",
    "# OR\n",
    "\n",
    "df.filter(\"MSISDN in (57228141, 57228141, 57320678)\").show() # SQL-LIKE\n",
    "\n",
    "\n",
    "df.filter(~(col(\"MSISDN\").isin(my_list))).show()\n",
    "df.filter(\"MSISDN not in (57228141, 57228141, 57320678)\").show() # SQL-LIKE\n",
    "\n"
   ]
  }
 ],
 "metadata": {
  "kernelspec": {
   "display_name": "Python 3 (ipykernel)",
   "language": "python",
   "name": "python3"
  },
  "language_info": {
   "codemirror_mode": {
    "name": "ipython",
    "version": 3
   },
   "file_extension": ".py",
   "mimetype": "text/x-python",
   "name": "python",
   "nbconvert_exporter": "python",
   "pygments_lexer": "ipython3",
   "version": "3.11.9"
  }
 },
 "nbformat": 4,
 "nbformat_minor": 5
}
