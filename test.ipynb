{
 "cells": [
  {
   "cell_type": "markdown",
   "id": "c89a109f",
   "metadata": {},
   "source": [
    "- Understand spark configuration tuning for better performance during data processing.\n",
    "- Undertand the amount of resources needed for a Job.\n",
    "- Use increasing job loads for test purposes (500k -> 1M -> 2M records)"
   ]
  },
  {
   "cell_type": "code",
   "execution_count": null,
   "id": "c3917fda",
   "metadata": {},
   "outputs": [],
   "source": [
    "# Streaming:\n",
    "# .maxfile per trigger, 1 -> set the number of file when spart streaming is triggered."
   ]
  },
  {
   "cell_type": "code",
   "execution_count": null,
   "id": "50543ef2",
   "metadata": {},
   "outputs": [],
   "source": []
  }
 ],
 "metadata": {
  "language_info": {
   "name": "python"
  }
 },
 "nbformat": 4,
 "nbformat_minor": 5
}
