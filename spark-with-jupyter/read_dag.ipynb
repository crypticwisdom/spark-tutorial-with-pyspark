{
 "cells": [
  {
   "cell_type": "markdown",
   "id": "288331c7",
   "metadata": {},
   "source": [
    "# Reading DAG\n",
    "- Reading files\n",
    "- Narrow Ops\n",
    "  - filter\n",
    "  - withColumn\n",
    "  - select\n",
    "- Wide Ops\n",
    "  - joins\n",
    "    - sort merge join\n",
    "    - broadcast join\n",
    "  - GroupBy\n",
    "    - count\n",
    "    - sum\n",
    "    - countDistinct"
   ]
  },
  {
   "cell_type": "markdown",
   "id": "cb3a559b",
   "metadata": {},
   "source": [
    "- job 0: Reads meta data of data, it doesn't have an input because it just reads meta data."
   ]
  },
  {
   "cell_type": "code",
   "execution_count": null,
   "id": "7aff9f32",
   "metadata": {
    "vscode": {
     "languageId": "plaintext"
    }
   },
   "outputs": [],
   "source": []
  }
 ],
 "metadata": {
  "language_info": {
   "name": "python"
  }
 },
 "nbformat": 4,
 "nbformat_minor": 5
}
