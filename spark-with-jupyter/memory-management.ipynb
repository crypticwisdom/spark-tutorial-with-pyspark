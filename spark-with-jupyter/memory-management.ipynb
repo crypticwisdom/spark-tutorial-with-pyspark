{
 "cells": [
  {
   "cell_type": "markdown",
   "id": "409ba231",
   "metadata": {},
   "source": [
    "# Memory management\n",
    "- Executor memery management\n",
    "- unified memory\n",
    "- off heap memory\n",
    "\n",
    "---\n",
    "\n",
    "Most of spark ops are ran on on-heap memory. The on-heap memory is divided in4 sections:\n",
    "- \n"
   ]
  }
 ],
 "metadata": {
  "language_info": {
   "name": "python"
  }
 },
 "nbformat": 4,
 "nbformat_minor": 5
}
