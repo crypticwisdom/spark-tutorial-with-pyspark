{
 "cells": [
  {
   "cell_type": "code",
   "execution_count": 2,
   "id": "11148f7b-dd36-4073-a8d0-247a85c01cf1",
   "metadata": {},
   "outputs": [],
   "source": [
    "from pyspark.sql import SparkSession\n",
    "from pyspark.sql.functions import lit, concat, when"
   ]
  },
  {
   "cell_type": "code",
   "execution_count": 4,
   "id": "dacf487c-33a4-4b4d-94cc-cf556b2651d1",
   "metadata": {
    "editable": true,
    "slideshow": {
     "slide_type": ""
    },
    "tags": []
   },
   "outputs": [],
   "source": [
    "spark = SparkSession.builder.master(\"local[*]\").appName(\"TEST EMTEL DATA DUMP\").getOrCreate()\n",
    "spark\n",
    "spark.sparkContext.setJobDescription(\"Learning Spark UI\")"
   ]
  },
  {
   "cell_type": "code",
   "execution_count": 9,
   "id": "ffe53386-db6f-49b3-810f-837ac1f998f5",
   "metadata": {},
   "outputs": [
    {
     "name": "stdout",
     "output_type": "stream",
     "text": [
      "root\n",
      " |-- MSISDN: integer (nullable = true)\n",
      " |-- NID_LEN: integer (nullable = true)\n",
      " |-- USERTYPE: string (nullable = true)\n",
      " |-- EMAIL: string (nullable = true)\n",
      " |-- GROSS_DATE: string (nullable = true)\n",
      " |-- SUBSCRIBERCAT: string (nullable = true)\n",
      "\n",
      "+--------+-------+--------+-------------------------+----------+-------------+\n",
      "|MSISDN  |NID_LEN|USERTYPE|EMAIL                    |GROSS_DATE|SUBSCRIBERCAT|\n",
      "+--------+-------+--------+-------------------------+----------+-------------+\n",
      "|54924133|14     |PREPAID |JEANPOMPIER0517@GMAIL.COM|21-Jul-15 |INDIVIDUAL   |\n",
      "|54846497|14     |PREPAID |NULL                     |10-Apr-24 |INDIVIDUAL   |\n",
      "|57369115|8      |PREPAID |NULL                     |2-Mar-20  |INDIVIDUAL   |\n",
      "|57113437|14     |PREPAID |NULL                     |26-Nov-24 |INDIVIDUAL   |\n",
      "|58468805|14     |PREPAID |NULL                     |4-Jun-16  |INDIVIDUAL   |\n",
      "+--------+-------+--------+-------------------------+----------+-------------+\n",
      "only showing top 5 rows\n",
      "\n",
      "+--------+-------+--------+--------------------+----------+-------------+\n",
      "|  MSISDN|NID_LEN|USERTYPE|               EMAIL|GROSS_DATE|SUBSCRIBERCAT|\n",
      "+--------+-------+--------+--------------------+----------+-------------+\n",
      "|54924133|     14| PREPAID|JEANPOMPIER0517@G...| 21-Jul-15|   INDIVIDUAL|\n",
      "|54846497|     14| PREPAID|                NULL| 10-Apr-24|   INDIVIDUAL|\n",
      "|57369115|      8| PREPAID|                NULL|  2-Mar-20|   INDIVIDUAL|\n",
      "|57113437|     14| PREPAID|                NULL| 26-Nov-24|   INDIVIDUAL|\n",
      "|58468805|     14| PREPAID|                NULL|  4-Jun-16|   INDIVIDUAL|\n",
      "|57228141|      9| PREPAID|                NULL|  2-Mar-23|   INDIVIDUAL|\n",
      "|57119226|     14| PREPAID|                NULL| 11-Dec-23|   INDIVIDUAL|\n",
      "|57118074|     14| PREPAID|                NULL| 15-Aug-04|   INDIVIDUAL|\n",
      "|54881304|     14| PREPAID|                NULL|  1-Nov-23|   INDIVIDUAL|\n",
      "|57320678|     14| PREPAID|                NULL| 19-Dec-23|   INDIVIDUAL|\n",
      "|70419962|      9| PREPAID|                NULL|  2-May-25|   INDIVIDUAL|\n",
      "|54882497|     14| PREPAID|                NULL|  1-May-24|   INDIVIDUAL|\n",
      "|57432871|     14| PREPAID|                NULL|  3-Jun-07|   INDIVIDUAL|\n",
      "|54599755|     14| PREPAID|                NULL| 29-May-25|   INDIVIDUAL|\n",
      "|54521567|     14| PREPAID|                NULL|  4-Jan-25|   INDIVIDUAL|\n",
      "|54537767|     14| PREPAID|                NULL| 29-Nov-23|   INDIVIDUAL|\n",
      "|54591599|     14| PREPAID|                NULL| 24-Apr-24|   INDIVIDUAL|\n",
      "|70430321|      9| PREPAID|                NULL| 19-May-25|   INDIVIDUAL|\n",
      "|54236101|     14| PREPAID|                NULL|  2-Aug-23|   INDIVIDUAL|\n",
      "|59855287|     14| PREPAID|                NULL| 15-Dec-15|   INDIVIDUAL|\n",
      "+--------+-------+--------+--------------------+----------+-------------+\n",
      "only showing top 20 rows\n",
      "\n"
     ]
    },
    {
     "data": {
      "text/plain": [
       "DataFrame[MSISDN: int]"
      ]
     },
     "execution_count": 9,
     "metadata": {},
     "output_type": "execute_result"
    }
   ],
   "source": [
    "df = spark.read.option('header', 'true').option(\"inferSchema\", \"true\").option(\"sep\", \",\").csv('./data/testdata.csv')\\\n",
    "    .select(\"MSISDN\", \"NID_LEN\", \"USERTYPE\", \"EMAIL\", \"GROSS_DATE\", \"SUBSCRIBERCAT\")\n",
    "df.printSchema()"
   ]
  },
  {
   "cell_type": "code",
   "execution_count": null,
   "id": "c6e56204-590d-42ee-87c2-6c4a721da81e",
   "metadata": {},
   "outputs": [],
   "source": []
  }
 ],
 "metadata": {
  "kernelspec": {
   "display_name": "Python 3 (ipykernel)",
   "language": "python",
   "name": "python3"
  },
  "language_info": {
   "codemirror_mode": {
    "name": "ipython",
    "version": 3
   },
   "file_extension": ".py",
   "mimetype": "text/x-python",
   "name": "python",
   "nbconvert_exporter": "python",
   "pygments_lexer": "ipython3",
   "version": "3.11.9"
  }
 },
 "nbformat": 4,
 "nbformat_minor": 5
}
