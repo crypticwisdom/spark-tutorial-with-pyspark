{
 "cells": [
  {
   "cell_type": "code",
   "execution_count": 1,
   "id": "18c59d61-1fb3-4a4e-904f-8e490c24d893",
   "metadata": {},
   "outputs": [
    {
     "data": {
      "text/html": [
       "\n",
       "            <div>\n",
       "                <p><b>SparkSession - in-memory</b></p>\n",
       "                \n",
       "        <div>\n",
       "            <p><b>SparkContext</b></p>\n",
       "\n",
       "            <p><a href=\"http://host.docker.internal:4041\">Spark UI</a></p>\n",
       "\n",
       "            <dl>\n",
       "              <dt>Version</dt>\n",
       "                <dd><code>v3.5.0</code></dd>\n",
       "              <dt>Master</dt>\n",
       "                <dd><code>local[2]</code></dd>\n",
       "              <dt>AppName</dt>\n",
       "                <dd><code>Trial</code></dd>\n",
       "            </dl>\n",
       "        </div>\n",
       "        \n",
       "            </div>\n",
       "        "
      ],
      "text/plain": [
       "<pyspark.sql.session.SparkSession at 0x1d77ffa7650>"
      ]
     },
     "execution_count": 1,
     "metadata": {},
     "output_type": "execute_result"
    }
   ],
   "source": [
    "from pyspark.sql import SparkSession\n",
    "\n",
    "spark = SparkSession.builder.master(\"local[2]\").appName(\"Trial\").getOrCreate()\n",
    "spark"
   ]
  },
  {
   "cell_type": "code",
   "execution_count": 61,
   "id": "02963a8e-4c8c-4884-9024-63be96f5fd7c",
   "metadata": {
    "scrolled": true
   },
   "outputs": [],
   "source": [
    "\n",
    "\n",
    "df = spark.read.option('header', 'true').option('inferSchema', 'true').csv('./data/DND_20250708.csv')"
   ]
  },
  {
   "cell_type": "code",
   "execution_count": 88,
   "id": "4eeae828-176f-47fd-89f3-73fa2c42dec2",
   "metadata": {},
   "outputs": [
    {
     "name": "stdout",
     "output_type": "stream",
     "text": [
      "+--------+------------------------------------------------------------------------------------------------+---------+------+\n",
      "|  NUMBER|CASE WHEN (NUMBER IS NOT NULL) THEN concat(230, CAST(NUMBER AS PHONE AS STRING)) ELSE NUMBER END|    DIVID|NEW_TE|\n",
      "+--------+------------------------------------------------------------------------------------------------+---------+------+\n",
      "|54283248|                                                                                     23054283248|271.41624|     5|\n",
      "|54283299|                                                                                     23054283299| 271.4165|     0|\n",
      "|54283313|                                                                                     23054283313|271.41656|     1|\n",
      "|54283321|                                                                                     23054283321| 271.4166|     2|\n",
      "|54283332|                                                                                     23054283332|271.41666|     1|\n",
      "|54283333|                                                                                     23054283333|271.41666|  NULL|\n",
      "|54283335|                                                                                     23054283335|271.41668|  NULL|\n",
      "|54283354|                                                                                     23054283354|271.41676|  NULL|\n",
      "|54283355|                                                                                     23054283355|271.41678|  NULL|\n",
      "|54283367|                                                                                     23054283367|271.41684|  NULL|\n",
      "|54283372|                                                                                     23054283372|271.41686|  NULL|\n",
      "|54283377|                                                                                     23054283377|271.41688|  NULL|\n",
      "|54283399|                                                                                     23054283399|  271.417|  NULL|\n",
      "|54283423|                                                                                     23054283423|271.41712|  NULL|\n",
      "|54283463|                                                                                     23054283463|271.41732|  NULL|\n",
      "|54283510|                                                                                     23054283510|271.41756|  NULL|\n",
      "|54283531|                                                                                     23054283531|271.41766|  NULL|\n",
      "|54283544|                                                                                     23054283544|271.41772|  NULL|\n",
      "|54283550|                                                                                     23054283550|271.41776|  NULL|\n",
      "|54283570|                                                                                     23054283570|271.41784|  NULL|\n",
      "+--------+------------------------------------------------------------------------------------------------+---------+------+\n",
      "only showing top 20 rows\n",
      "\n"
     ]
    }
   ],
   "source": [
    "from pyspark.sql.functions import col, concat, lit, when\n",
    "df.select(\n",
    "    col('NUMBER'),\n",
    "    # when(col('NUMBER').isNotNull(), concat(lit('230'), col('NUMBER').cast('string'))).otherwise(col('NUMBER')),\n",
    "    (col('NUMBER').cast('float') / 200000).alias('DIVID'), \n",
    "    (col('TE') % 7).alias(\"NEW_TE\")\n",
    ").show()\n",
    "\n",
    "\n",
    "# df.withColumn('NUMBER', )"
   ]
  },
  {
   "cell_type": "code",
   "execution_count": null,
   "id": "b50c3c8a-58d1-41d1-b7dd-4653222bc322",
   "metadata": {},
   "outputs": [],
   "source": []
  }
 ],
 "metadata": {
  "kernelspec": {
   "display_name": "Python 3 (ipykernel)",
   "language": "python",
   "name": "python3"
  },
  "language_info": {
   "codemirror_mode": {
    "name": "ipython",
    "version": 3
   },
   "file_extension": ".py",
   "mimetype": "text/x-python",
   "name": "python",
   "nbconvert_exporter": "python",
   "pygments_lexer": "ipython3",
   "version": "3.11.9"
  }
 },
 "nbformat": 4,
 "nbformat_minor": 5
}
