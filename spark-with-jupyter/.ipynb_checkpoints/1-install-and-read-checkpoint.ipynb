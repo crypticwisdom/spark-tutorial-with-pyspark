{
 "cells": [
  {
   "cell_type": "code",
   "execution_count": null,
   "id": "2542a3cb",
   "metadata": {},
   "outputs": [],
   "source": [
    "# Spark or PySpark applications starts with an EntryPoint which is the SparkSession.\n",
    "# The SparkSession is the entry point to programming Spark with the Dataset and DataFrame API.\n",
    "# It gives access to SparkContext, SQLContext, and HiveContext.\n",
    "# The SparkSession can be created using the `SparkSession.builder` method.\n",
    "\n",
    "\n",
    "from pyspark.sql import SparkSession\n",
    "\n",
    "# spark = SparkSession.builder.master(\"local[*]\").appName(\"Spark-Read\").config(\"spark.some.config.option\", \"config-value\").getOrCreate()  # Create the SparkSession\n",
    "spark = SparkSession.builder.appName('Spark-Read').getOrCreate()"
   ]
  },
  {
   "cell_type": "code",
   "execution_count": null,
   "id": "e918deef",
   "metadata": {},
   "outputs": [
    {
     "name": "stdout",
     "output_type": "stream",
     "text": [
      "+--------+--------------+---------+--------------------+------------------+------------+---------------+----------+---------------+------------------+---------+-----------------+----------------------+---------------------+-------------+----------+-----------+----------+-------------------+--------------------+------------+-------+--------+--------+------------+------------+----------+----------+----------------+----------------+-----------------+-----------------+------------------+------------------+------------------+-----------------+-----------------+-----------------+-------------+------------+------------+---------------+--------------+----------------------+----------------------+---------------------+---------------------+---------------------+----------+-----------------+-----------------+----------------------+----------------------+---------------------+---------------------+--------------------------+--------------------------+----------+--------------+------------------+------------------+------------------+------------------+------------------+------------------+--------------+--------------+--------------+------------+------------+------------+------------+------------+------------+--------+--------+--------+\n",
      "|  MSISDN|         \\tNID|\\tNID_LEN|    \\tCUSTOMERIDNAME|           \\tEMAIL|\\tGROSS_DATE|\\tCUSTOMER_TYPE|\\tUSERTYPE|\\tSUBSCRIBERCAT|\\tSUBSCRIBERSUBCAT|\\tSEGMENT|\\tPOSTPAID_TARIFF|\\tPOSTPAID_MAINPRODUCT|\\tPOSTPAID_SUBPRODUCT|\\tNATIONALITY|\\tAON_DAYS|\\tAON_MONTH|\\tAON_YEAR|\\tALTERNATE_MOB_NUM|\\tFAVOURITE_LOCATION|\\tDAYS_INACT|\\tBAL_1| \\tBAL_2| \\tBAL_3|\\tDATA_USERS|\\tPACK_USERS|\\tPACK_90D|\\tPACK_30D|\\tDAILY_PACK_90D|\\tDAILY_PACK_30D|\\tWEEKLY_PACK_90D|\\tWEEKLY_PACK_30D|\\tMONTHLY_PACK_90D|\\tMONTHLY_PACK_30D|\\tRECHARGE_VAL_30D|\\tRECHARGE_VAL_D1|\\tRECHARGE_VAL_D2|\\tRECHARGE_VAL_D3|\\tAIRTIME_USG|\\tYOUTH_PACK|\\tTOTAL_ARPU|\\tONNET_REVENUE|\\tXNET_REVENUE|\\tONNET_TOTAL_MINS_90D|\\tONNET_TOTAL_MINS_30D|\\tXNET_TOTAL_MINS_90D|\\tXNET_TOTAL_MINS_30D|\\tVOICE_INCOMING_ARPU|\\tSMS_ARPU|\\tDATA_USG_GB_90D|\\tDATA_USG_GB_30D|\\tDATA_PAYG_USG_GB_90D|\\tDATA_PAYG_USG_GB_30D|\\tTOTAL_DATA_ARPU_90D|\\tTOTAL_DATA_ARPU_30D|\\tTOTAL_DATA_PAYG_ARPU_90D|\\tTOTAL_DATA_PAYG_ARPU_30D|\\tILD_ARPU|\\tILD_SMS_ARPU|\\tDEVICE_SUBTYPE_1|\\tDEVICE_SUBTYPE_2|\\tDEVICE_SUBTYPE_3|     \\tOS_SYSTEM_1|     \\tOS_SYSTEM_2|     \\tOS_SYSTEM_3|\\tTECHNOLOGY_1|\\tTECHNOLOGY_2|\\tTECHNOLOGY_3|\\tSIM_TYPE_1|\\tSIM_TYPE_2|\\tSIM_TYPE_3|\\tDUAL_SIM_1|\\tDUAL_SIM_2|\\tDUAL_SIM_3|\\tESIM_1|\\tESIM_2|\\tESIM_3|\n",
      "+--------+--------------+---------+--------------------+------------------+------------+---------------+----------+---------------+------------------+---------+-----------------+----------------------+---------------------+-------------+----------+-----------+----------+-------------------+--------------------+------------+-------+--------+--------+------------+------------+----------+----------+----------------+----------------+-----------------+-----------------+------------------+------------------+------------------+-----------------+-----------------+-----------------+-------------+------------+------------+---------------+--------------+----------------------+----------------------+---------------------+---------------------+---------------------+----------+-----------------+-----------------+----------------------+----------------------+---------------------+---------------------+--------------------------+--------------------------+----------+--------------+------------------+------------------+------------------+------------------+------------------+------------------+--------------+--------------+--------------+------------+------------+------------+------------+------------+------------+--------+--------+--------+\n",
      "|58455981|M0612933000363|       14|JESSICA POOLAY MO...|jesane06@gmail.com|   17-JAN-22|         MOBILE|   PREPAID|     INDIVIDUAL|              GOLD|   SILVER|             NULL|                  NULL|                 NULL|         HOME|      1231|      40.42|      3.37|               NULL|  MICRO QB CAPUCINES|           0|0.00134| 0.00134| 0.00134|           Y|           Y|         4|         1|            NULL|            NULL|                1|             NULL|                 3|                 1|            322.61|              0.0|              0.0|              0.0|      1055.66|           N|     1055.66|           NULL|          NULL|                  NULL|                  NULL|                 NULL|                 NULL|                 NULL|       0.0|            26.18|             8.32|                   0.0|                   0.0|               645.22|               322.61|                       0.0|                       0.0|      NULL|          NULL|            ROUTER|            ROUTER|            ROUTER|Vendor Proprietary|Vendor Proprietary|Vendor Proprietary|            4G|            4G|            4G|      USIM  |      USIM  |      USIM  |NON DUAL SIM|NON DUAL SIM|NON DUAL SIM|    NULL|    NULL|    NULL|\n",
      "|54825926|S060386461022B|       14|   GHOORBIN MANJUSHA|              NULL|   26-NOV-20|         MOBILE|   PREPAID|     INDIVIDUAL|              GOLD|   SILVER|             NULL|                  NULL|                 NULL|         HOME|      1648|      54.13|      4.52|               NULL|  RIVIERE DU REMPART|           0|    0.0|11.39412|15.97412|           Y|           Y|        14|         3|              14|               3|             NULL|             NULL|              NULL|              NULL|            130.43|              0.0|              0.0|              0.0|        403.0|           N|      421.14|          36.56|         93.07|                 30.47|                  7.97|                25.95|                  6.7|                18.14|       7.2|             7.02|             1.86|                  0.55|                  0.26|                 96.0|                37.15|                     115.2|                     55.23|      NULL|          NULL|        Smartphone|        Smartphone|        Smartphone|           Android|           Android|           Android|            4G|            4G|            4G|      USIM  |      USIM  |      USIM  |    DUAL SIM|    DUAL SIM|    DUAL SIM|    NULL|    NULL|    NULL|\n",
      "|58497272|J131193240291B|       14|      TISUN JOHAWEER|NEMAIL@EMELNET.COM|   26-MAR-25|         MOBILE|   PREPAID|     INDIVIDUAL|              GOLD|      NEW|             NULL|                  NULL|                 NULL|         HOME|        67|       2.19|      0.18|               NULL|      CHEMIN GRENIER|           0|2.71348|  2.7637|  2.7637|           Y|           Y|         8|         6|               8|               6|             NULL|             NULL|              NULL|              NULL|            173.91|              0.0|              0.0|              0.0|       436.47|           N|      454.21|           23.4|         58.81|                  19.5|                   0.2|                 35.1|                18.42|                10.32|       0.6|              1.7|             0.62|                  0.66|                   0.3|                93.24|                65.88|                    138.57|                      62.3|      NULL|          11.4|        Smartphone|        Smartphone|        Smartphone|           Android|           Android|           Android|            5G|            5G|            5G|      USIM  |      USIM  |      USIM  |    DUAL SIM|    DUAL SIM|    DUAL SIM|    NULL|    NULL|    NULL|\n",
      "+--------+--------------+---------+--------------------+------------------+------------+---------------+----------+---------------+------------------+---------+-----------------+----------------------+---------------------+-------------+----------+-----------+----------+-------------------+--------------------+------------+-------+--------+--------+------------+------------+----------+----------+----------------+----------------+-----------------+-----------------+------------------+------------------+------------------+-----------------+-----------------+-----------------+-------------+------------+------------+---------------+--------------+----------------------+----------------------+---------------------+---------------------+---------------------+----------+-----------------+-----------------+----------------------+----------------------+---------------------+---------------------+--------------------------+--------------------------+----------+--------------+------------------+------------------+------------------+------------------+------------------+------------------+--------------+--------------+--------------+------------+------------+------------+------------+------------+------------+--------+--------+--------+\n",
      "only showing top 3 rows\n",
      "\n"
     ]
    }
   ],
   "source": [
    "# Methosd 1: Using the `read.csv` method to read csv file\n",
    "# the `header` option is set to True to indicate that the first row in the csv file contains the column names.\n",
    "# the `inferSchema` option is set to True to automatically infer the data types of the columns.\n",
    "\n",
    "spark_df1 = spark.read.csv('./data1.csv', header=True, inferSchema=True)\n",
    "\n",
    "# used to show n rows of the dataframe in relational database table format\n",
    "spark_df1.show(3)\n",
    "# df.show(10, truncate=False)\n"
   ]
  },
  {
   "cell_type": "code",
   "execution_count": null,
   "id": "9008e168",
   "metadata": {},
   "outputs": [
    {
     "name": "stdout",
     "output_type": "stream",
     "text": [
      "+--------+\n",
      "|  MSISDN|\n",
      "+--------+\n",
      "|58455981|\n",
      "|54825926|\n",
      "|58497272|\n",
      "|54590838|\n",
      "|54521339|\n",
      "+--------+\n",
      "only showing top 5 rows\n",
      "\n"
     ]
    }
   ],
   "source": [
    "# Read file Method 2: Using the 'option' method to read csv file\n",
    "\n",
    "# the 'header' is used to indicate that the first row in the csv file contains the column names.\n",
    "spark_df2 = spark.read.option(\"header\", \"true\").csv('./data1.csv')\n",
    "\n",
    "# .head method returns the first n rows of the DataFrame.\n",
    "# spark_df2.head(5)\n",
    "\n",
    "# .printSchema method prints the schema of the Dataframe.\n",
    "# spark_df2.printSchema()\n",
    "# spark_df2.schema\n",
    "# spark_df2.dtypes # Get the data types of each column in the DataFrame as a list of tuples (column_name, data_type)\n",
    "# df.columns\n",
    "# df.head(10)\n",
    "# df.tail(10)\n",
    "\n",
    "spark_df1.MSISDN\n",
    "spark_df1.select('MSISDN').show(5)"
   ]
  },
  {
   "cell_type": "code",
   "execution_count": null,
   "id": "fbcc57b2",
   "metadata": {},
   "outputs": [],
   "source": [
    "!pip install pyspark"
   ]
  }
 ],
 "metadata": {
  "kernelspec": {
   "display_name": "venv",
   "language": "python",
   "name": "python3"
  },
  "language_info": {
   "codemirror_mode": {
    "name": "ipython",
    "version": 3
   },
   "file_extension": ".py",
   "mimetype": "text/x-python",
   "name": "python",
   "nbconvert_exporter": "python",
   "pygments_lexer": "ipython3",
   "version": "3.11.9"
  }
 },
 "nbformat": 4,
 "nbformat_minor": 5
}
