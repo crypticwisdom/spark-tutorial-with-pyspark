{
 "cells": [
  {
   "cell_type": "code",
   "execution_count": 146,
   "id": "18c59d61-1fb3-4a4e-904f-8e490c24d893",
   "metadata": {},
   "outputs": [
    {
     "data": {
      "text/html": [
       "\n",
       "            <div>\n",
       "                <p><b>SparkSession - in-memory</b></p>\n",
       "                \n",
       "        <div>\n",
       "            <p><b>SparkContext</b></p>\n",
       "\n",
       "            <p><a href=\"http://host.docker.internal:4041\">Spark UI</a></p>\n",
       "\n",
       "            <dl>\n",
       "              <dt>Version</dt>\n",
       "                <dd><code>v3.5.0</code></dd>\n",
       "              <dt>Master</dt>\n",
       "                <dd><code>local[2]</code></dd>\n",
       "              <dt>AppName</dt>\n",
       "                <dd><code>Trial</code></dd>\n",
       "            </dl>\n",
       "        </div>\n",
       "        \n",
       "            </div>\n",
       "        "
      ],
      "text/plain": [
       "<pyspark.sql.session.SparkSession at 0x1d77ffa7650>"
      ]
     },
     "execution_count": 146,
     "metadata": {},
     "output_type": "execute_result"
    }
   ],
   "source": [
    "from pyspark.sql import SparkSession\n",
    "\n",
    "spark = SparkSession.builder.master(\"local[2]\").appName(\"Trial\").getOrCreate()\n",
    "spark"
   ]
  },
  {
   "cell_type": "code",
   "execution_count": 160,
   "id": "02963a8e-4c8c-4884-9024-63be96f5fd7c",
   "metadata": {
    "scrolled": true
   },
   "outputs": [],
   "source": [
    "df = spark.read.option('header', 'true').option('inferSchema', 'true').csv('./data/DND_20250708.csv')"
   ]
  },
  {
   "cell_type": "code",
   "execution_count": 161,
   "id": "4eeae828-176f-47fd-89f3-73fa2c42dec2",
   "metadata": {},
   "outputs": [
    {
     "name": "stdout",
     "output_type": "stream",
     "text": [
      "+--------+---------+------+\n",
      "|  NUMBER|    DIVID|NEW_TE|\n",
      "+--------+---------+------+\n",
      "|54283248|271.41624|     5|\n",
      "|54283299| 271.4165|     0|\n",
      "|54283313|271.41656|     1|\n",
      "|54283321| 271.4166|     2|\n",
      "|54283332|271.41666|     1|\n",
      "|54283333|271.41666|  NULL|\n",
      "|54283335|271.41668|  NULL|\n",
      "|54283354|271.41676|  NULL|\n",
      "|54283355|271.41678|  NULL|\n",
      "|54283367|271.41684|  NULL|\n",
      "|54283372|271.41686|  NULL|\n",
      "|54283377|271.41688|  NULL|\n",
      "|54283399|  271.417|  NULL|\n",
      "|54283423|271.41712|  NULL|\n",
      "|54283463|271.41732|  NULL|\n",
      "|54283510|271.41756|  NULL|\n",
      "|54283531|271.41766|  NULL|\n",
      "|54283544|271.41772|  NULL|\n",
      "|54283550|271.41776|  NULL|\n",
      "|54283570|271.41784|  NULL|\n",
      "+--------+---------+------+\n",
      "only showing top 20 rows\n",
      "\n"
     ]
    }
   ],
   "source": [
    "from pyspark.sql.functions import col, concat, lit, when\n",
    "df = df.select(\n",
    "    col('NUMBER'),\n",
    "    # when(col('NUMBER').isNotNull(), concat(lit('230'), col('NUMBER').cast('string'))).otherwise(col('NUMBER')),\n",
    "    (col('NUMBER').cast('float') / 200000).alias('DIVID'), \n",
    "    (col('TE') % 7).alias(\"NEW_TE\")\n",
    ")\n",
    "\n",
    "\n",
    "df.show()"
   ]
  },
  {
   "cell_type": "code",
   "execution_count": 167,
   "id": "b50c3c8a-58d1-41d1-b7dd-4653222bc322",
   "metadata": {},
   "outputs": [
    {
     "name": "stdout",
     "output_type": "stream",
     "text": [
      "+--------+---------+------+---+----+\n",
      "|  NUMBER|    DIVID|NEW_TE|AGE|FULL|\n",
      "+--------+---------+------+---+----+\n",
      "|54283248|271.41624|     5|135|NULL|\n",
      "|54283299| 271.4165|     0|135|NULL|\n",
      "|54283313|271.41656|     1|135|NULL|\n",
      "|54283321| 271.4166|     2|135|NULL|\n",
      "|54283332|271.41666|     1|135|NULL|\n",
      "|54283333|271.41666|     2|135|NULL|\n",
      "|54283335|271.41668|     2|135|NULL|\n",
      "|54283354|271.41676|     2|135|NULL|\n",
      "|54283355|271.41678|     2|135|NULL|\n",
      "|54283367|271.41684|     2|135|NULL|\n",
      "|54283372|271.41686|     2|135|NULL|\n",
      "|54283377|271.41688|     2|135|NULL|\n",
      "|54283399|  271.417|     2|135|NULL|\n",
      "|54283423|271.41712|     2|135|NULL|\n",
      "|54283463|271.41732|     2|135|NULL|\n",
      "|54283510|271.41756|     2|135|NULL|\n",
      "|54283531|271.41766|     2|135|NULL|\n",
      "|54283544|271.41772|     2|135|NULL|\n",
      "|54283550|271.41776|     2|135|NULL|\n",
      "|54283570|271.41784|     2|135|NULL|\n",
      "+--------+---------+------+---+----+\n",
      "only showing top 20 rows\n",
      "\n"
     ]
    }
   ],
   "source": [
    "from pyspark.sql.functions import when\n",
    "\n",
    "df1 = df.withColumn(\n",
    "    'AGE',\n",
    "    (col('DIVID') / 2).cast('integer'),\n",
    ").withColumn(\n",
    "    'NEW_TE',\n",
    "    when(col('NEW_TE').isNull(), 2).otherwise(col(\"NEW_TE\"))\n",
    ").withColumn(\n",
    "    'FULL',\n",
    "    when(col('NEW_TE').isNotNull(), None).otherwise(col(\"NEW_TE\"))\n",
    ")\n",
    "\n",
    "df1.show()"
   ]
  },
  {
   "cell_type": "code",
   "execution_count": 185,
   "id": "9d1401d0-d175-4b89-8e92-c0f20385f145",
   "metadata": {},
   "outputs": [
    {
     "name": "stdout",
     "output_type": "stream",
     "text": [
      "+--------+---------+------+---+----+\n",
      "|  NUMBER|    DIVID|NEW_TE|AGE|FULL|\n",
      "+--------+---------+------+---+----+\n",
      "|54283248|271.41624|     5|135|  33|\n",
      "|54283299| 271.4165|     0|135|  33|\n",
      "|54283313|271.41656|     1|135|  33|\n",
      "|54283321| 271.4166|     2|135|  33|\n",
      "|54283332|271.41666|     1|135|  33|\n",
      "|54283333|271.41666|     2|135|  33|\n",
      "|54283335|271.41668|     2|135|  33|\n",
      "|54283354|271.41676|     2|135|  33|\n",
      "|54283355|271.41678|     2|135|  33|\n",
      "|54283367|271.41684|     2|135|  33|\n",
      "|54283372|271.41686|     2|135|  33|\n",
      "|54283377|271.41688|     2|135|  33|\n",
      "|54283399|  271.417|     2|135|  33|\n",
      "|54283423|271.41712|     2|135|  33|\n",
      "|54283463|271.41732|     2|135|  33|\n",
      "|54283510|271.41756|     2|135|  33|\n",
      "|54283531|271.41766|     2|135|  33|\n",
      "|54283544|271.41772|     2|135|  33|\n",
      "|54283550|271.41776|     2|135|  33|\n",
      "|54283570|271.41784|     2|135|  33|\n",
      "+--------+---------+------+---+----+\n",
      "only showing top 20 rows\n",
      "\n"
     ]
    }
   ],
   "source": [
    "df2 = df1\n",
    "# df2.na.drop(how='all', thresh=2).show()\n",
    "\n",
    "df2.na.fill(33, subset=['FULL']).show()\n",
    "\n",
    "# df2.printSchema()\n",
    "# df2.show()"
   ]
  }
 ],
 "metadata": {
  "kernelspec": {
   "display_name": "Python 3 (ipykernel)",
   "language": "python",
   "name": "python3"
  },
  "language_info": {
   "codemirror_mode": {
    "name": "ipython",
    "version": 3
   },
   "file_extension": ".py",
   "mimetype": "text/x-python",
   "name": "python",
   "nbconvert_exporter": "python",
   "pygments_lexer": "ipython3",
   "version": "3.11.9"
  }
 },
 "nbformat": 4,
 "nbformat_minor": 5
}
